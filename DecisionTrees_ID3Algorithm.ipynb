{
  "nbformat": 4,
  "nbformat_minor": 0,
  "metadata": {
    "colab": {
      "provenance": [],
      "authorship_tag": "ABX9TyMfPdeKoVaMQK0B0QzBRKpv",
      "include_colab_link": true
    },
    "kernelspec": {
      "name": "python3",
      "display_name": "Python 3"
    },
    "language_info": {
      "name": "python"
    }
  },
  "cells": [
    {
      "cell_type": "markdown",
      "metadata": {
        "id": "view-in-github",
        "colab_type": "text"
      },
      "source": [
        "<a href=\"https://colab.research.google.com/github/aaronmat1905/MLdiaries/blob/main/DecisionTrees_ID3Algorithm.ipynb\" target=\"_parent\"><img src=\"https://colab.research.google.com/assets/colab-badge.svg\" alt=\"Open In Colab\"/></a>"
      ]
    },
    {
      "cell_type": "code",
      "execution_count": null,
      "metadata": {
        "id": "9g9z0khIzuQq"
      },
      "outputs": [],
      "source": [
        "import numpy as np\n",
        "from collections import Counter"
      ]
    },
    {
      "cell_type": "code",
      "source": [
        "def get_entropy_of_dataset(data: np.ndarray) -> float:\n",
        "    \"\"\"\n",
        "    Calculate the entropy of the entire dataset using the target variable (last column).\n",
        "\n",
        "    Args:\n",
        "        data (np.ndarray): Dataset where the last column is the target variable\n",
        "\n",
        "    Returns:\n",
        "        float: Entropy value calculated using the formula:\n",
        "               Entropy = -Σ(p_i * log2(p_i)) where p_i is the probability of class i\n",
        "\n",
        "    Example:\n",
        "        data = np.array([[1, 0, 'yes'],\n",
        "                        [1, 1, 'no'],\n",
        "                        [0, 0, 'yes']])\n",
        "        entropy = get_entropy_of_dataset(data)\n",
        "        # Should return entropy based on target column ['yes', 'no', 'yes']\n",
        "    \"\"\"\n",
        "    # TODO: Implement entropy calculation\n",
        "    # Hint: Use np.unique() to get unique classes and their counts\n",
        "    # Hint: Handle the case when probability is 0 to avoid log2(0)\n",
        "    pass"
      ],
      "metadata": {
        "id": "wGolczvh0s_x"
      },
      "execution_count": null,
      "outputs": []
    }
  ]
}