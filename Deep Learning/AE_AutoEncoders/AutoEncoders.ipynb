{
  "nbformat": 4,
  "nbformat_minor": 0,
  "metadata": {
    "colab": {
      "provenance": [],
      "authorship_tag": "ABX9TyN08HpzqwctiGZfxxCDOUMn",
      "include_colab_link": true
    },
    "kernelspec": {
      "name": "python3",
      "display_name": "Python 3"
    },
    "language_info": {
      "name": "python"
    }
  },
  "cells": [
    {
      "cell_type": "markdown",
      "metadata": {
        "id": "view-in-github",
        "colab_type": "text"
      },
      "source": [
        "<a href=\"https://colab.research.google.com/github/aaronmat1905/MLdiaries/blob/main/Deep%20Learning/AE_AutoEncoders/AutoEncoders.ipynb\" target=\"_parent\"><img src=\"https://colab.research.google.com/assets/colab-badge.svg\" alt=\"Open In Colab\"/></a>"
      ]
    },
    {
      "cell_type": "markdown",
      "source": [
        "*Source Inspired from material available on Internet, AI and particularly*\n",
        "- https://avandekleut.github.io/vae/"
      ],
      "metadata": {
        "id": "ZU-_W1EJQczO"
      }
    },
    {
      "cell_type": "code",
      "source": [
        "# Imports\n",
        "import torch\n",
        "import torch.nn as nn\n",
        "import torch.nn.functional as F\n",
        "import torch.utils\n",
        "import torch.distributions\n",
        "import torchvision\n",
        "import numpy as np\n",
        "import matplotlib.pyplot as plt"
      ],
      "metadata": {
        "id": "5kFqDM81Vsav"
      },
      "execution_count": 1,
      "outputs": []
    },
    {
      "cell_type": "code",
      "source": [
        "# Device = 'cuda' if torch.cuda.is_available() else 'cpu'\n",
        "torch.manual_seed(0)\n",
        "plt.rcParams['figure.dpi'] = 200"
      ],
      "metadata": {
        "id": "i-4kR9SdWtN1"
      },
      "execution_count": 5,
      "outputs": []
    },
    {
      "cell_type": "markdown",
      "source": [
        "# **AutoEncoders**\n",
        "*The Basics*\n",
        "\n",
        "> **Autoencoders** are **neural networks** that learn to **compress data** into a **smaller form**, and then **reconstruct** it, capturing essential patterns in the process.\n",
        "\n",
        "It is then trained to minimize the **Reconstruction Error** → *The Error between the original Input and the reconstructed Input*"
      ],
      "metadata": {
        "id": "faDbHh3iQ_a5"
      }
    },
    {
      "cell_type": "markdown",
      "source": [
        "**Main Components of the AutoEncoder**:\n",
        "1. Encoder\n",
        "> Encoder Compresses the data into a compact representation → **Latent Space**\n",
        "2. Decoder\n",
        "> Decoder Reconstructs the original data from the compact representation\n",
        "\n",
        "By the end of the training process, the model can understand which details/features are important to keep and which could be left out.\n",
        "___\n",
        "**Mathematically**,\n",
        "\n",
        "$$\n",
        "  Z= f(w_e.x + b_e)\n",
        "$$\n",
        "Where, `Z` is the Lower dimension representation, `{w_e and b_e}` are the encoder weight and bias.\n",
        "\n",
        "And,\n",
        "$$\n",
        "  X'=f(w_d.Z+b_d)\n",
        "$$\n",
        "Where `X'` is the Reconstructed input vector, and the rest are decoder weights and bias.\n",
        "___\n",
        "**Notes**\n",
        "- AE can learn non-linear representation of data\n",
        "- It is not-interpretable\n",
        "- It is self-supervised/unsupervised, so we use it for **Classification or Regression**\n",
        "- Latent Space Dimensionality is always lesser than or equal to the Inpur vector dimensionality\n",
        "\n",
        "> **Technically, we predict input from input**\n",
        "\n",
        "**Applications**\n",
        "- Image Inpainting [Filling in the missing parts of an image]\n",
        "- Image Sorting [Breaking the image into parts and then, sorting them correctly]"
      ],
      "metadata": {
        "id": "Wg25JrcjRoQk"
      }
    },
    {
      "cell_type": "markdown",
      "source": [
        "![image.png](data:image/png;base64,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)"
      ],
      "metadata": {
        "id": "hBOkR1YBVGEk"
      }
    },
    {
      "cell_type": "markdown",
      "source": [
        "### **Encoder**"
      ],
      "metadata": {
        "id": "hD6LHAe8WoDK"
      }
    },
    {
      "cell_type": "code",
      "source": [
        "# nn.Module is a base class for all Neural Network modules in PyTorch\n",
        "\n",
        "class Encoder(nn.Module):\n",
        "  def __init__(self, latent_dims):\n",
        "    super(Encoder, self).__init__() # Calls the constructor of the parent class nn.Module\n",
        "    self.linear1 = nn.linear(784, 512) # Maps the input from 784 dimensions to 512 dimensions\n",
        "    self.linear2 = nn.linear(512, latent_dims) # Maps the 512-dimensional input to latent_dims (Size of the compressed representation)\n",
        "  def forward(self, x):\n",
        "    # Sequence of computations applied to the input tensor\n",
        "    x = torch.flatten(x, start_dim=1) # Flattens each image into a single vector of length 784 keeping batch dimension intact\n",
        "    x = F.relu(self.linear1(x)) # Flattened vector first passed through self.linear1 followed by Relu activation function\n",
        "    return self.linear2(x) # Final output is the latent representation, to be used by the decoder or for tasks like clustering"
      ],
      "metadata": {
        "id": "OvPRqdBpVkJ7"
      },
      "execution_count": 4,
      "outputs": []
    },
    {
      "cell_type": "markdown",
      "source": [
        "### **Decoder**"
      ],
      "metadata": {
        "id": "wmLEimaEZJgI"
      }
    },
    {
      "cell_type": "code",
      "execution_count": 8,
      "metadata": {
        "id": "O7Ca0A1XQVlw"
      },
      "outputs": [],
      "source": [
        "class Decoder(nn.Module):\n",
        "    def __init__(self, latent_dims):\n",
        "        super(Decoder, self).__init__()\n",
        "        self.linear1 = nn.Linear(latent_dims, 512)\n",
        "        self.linear2 = nn.Linear(512, 784)\n",
        "\n",
        "    def forward(self, z):\n",
        "        z = F.relu(self.linear1(z))\n",
        "        z = torch.sigmoid(self.linear2(z))\n",
        "        return z.reshape((-1, 1, 28, 28))"
      ]
    },
    {
      "cell_type": "markdown",
      "source": [
        "### **AutoEncoder (AE)**"
      ],
      "metadata": {
        "id": "a0DiyVVlZ0or"
      }
    },
    {
      "cell_type": "code",
      "source": [
        "class AutoEncoder(nn.Module):\n",
        "  def __init__(self, latent_dims):\n",
        "    super(AutoEncoder, self).__init__()\n",
        "    self.encoder = Encoder(latent_dims)\n",
        "    self.decoder = Decoder(latent_dims)\n",
        "  def forward(self, x):\n",
        "    z = self.encoder(x)\n",
        "    return self.decoder(z)"
      ],
      "metadata": {
        "id": "J2SyrpxnZ7yK"
      },
      "execution_count": 9,
      "outputs": []
    }
  ]
}