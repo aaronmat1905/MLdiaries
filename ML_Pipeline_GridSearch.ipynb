{
  "nbformat": 4,
  "nbformat_minor": 0,
  "metadata": {
    "colab": {
      "provenance": [],
      "authorship_tag": "ABX9TyNM21VVjMqdUvzJPMqaRpqc",
      "include_colab_link": true
    },
    "kernelspec": {
      "name": "python3",
      "display_name": "Python 3"
    },
    "language_info": {
      "name": "python"
    }
  },
  "cells": [
    {
      "cell_type": "markdown",
      "metadata": {
        "id": "view-in-github",
        "colab_type": "text"
      },
      "source": [
        "<a href=\"https://colab.research.google.com/github/aaronmat1905/MLdiaries/blob/main/ML_Pipeline_GridSearch.ipynb\" target=\"_parent\"><img src=\"https://colab.research.google.com/assets/colab-badge.svg\" alt=\"Open In Colab\"/></a>"
      ]
    },
    {
      "cell_type": "markdown",
      "source": [
        "The Goal of this Notebook:\\\n",
        "- Manually build an ML Model\n",
        "- Tune their Hyperparameters manually and with `scikit-learn`\n",
        "- Compare results across datasets to learn model selection in Practice"
      ],
      "metadata": {
        "id": "GqnYBM6aYrVF"
      }
    },
    {
      "cell_type": "markdown",
      "source": [
        "# **Hyperparameter Tuning**\n",
        "\n",
        "Notes From:\n",
        "1. https://scikit-learn.org/stable/modules/grid_search.html\n",
        "2. https://arxiv.org/pdf/2410.22854\n",
        "3. https://towardsdatascience.com/parameters-and-hyperparameters-aa609601a9ac/\n",
        "4. https://aws.amazon.com/what-is/hyperparameter-tuning/\n",
        "\n"
      ],
      "metadata": {
        "id": "HFNeu_VOY7Jv"
      }
    },
    {
      "cell_type": "markdown",
      "source": [
        "**Parameters**:\\\n",
        "(Model's Memory-what it learns)\n",
        "\n",
        "A Parameter is a variable that the model learns from the data automatically during training.\\\n",
        "*Examples*\n",
        "- Linear Regression → Slope/weights + Bias\n",
        "- Neural Network → Weights of connections between nodes\n",
        "- k-Nearest Neighors → No learnable parameters, the training data itself is stored.\n",
        "___\n",
        "\n",
        "**Hyperparameters**:\n",
        "(Model's Settings - what you configure it to help it learn)\n",
        "\n",
        "Hyperparameters are those parameters which are set before you train a model.\\\n",
        "*Examples*:\n",
        "- Number of neighbors in kNN\n",
        "- Depth in a decision tree\n",
        "- Learning rate of a neural network\n",
        "\n",
        "They control how the learning happens, but aren't learned by the Model.\n",
        "\n",
        "*Scikit-learn* definition: \\\n",
        "`Hyper-parameters are parameters that are not directly learnt with estimators`\n"
      ],
      "metadata": {
        "id": "KYtmoK22Z9Ko"
      }
    },
    {
      "cell_type": "code",
      "execution_count": 1,
      "metadata": {
        "id": "C7hMpnYFXQFI"
      },
      "outputs": [],
      "source": [
        "# imports\n",
        "import pandas as pd\n",
        "import numpy as np\n",
        "import matplotlib.pyplot as plt\n",
        "import itertools"
      ]
    }
  ]
}