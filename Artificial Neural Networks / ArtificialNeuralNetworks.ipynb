{
  "nbformat": 4,
  "nbformat_minor": 0,
  "metadata": {
    "colab": {
      "provenance": [],
      "authorship_tag": "ABX9TyMp5avSkalGwLZe/42ziUWu",
      "include_colab_link": true
    },
    "kernelspec": {
      "name": "python3",
      "display_name": "Python 3"
    },
    "language_info": {
      "name": "python"
    }
  },
  "cells": [
    {
      "cell_type": "markdown",
      "metadata": {
        "id": "view-in-github",
        "colab_type": "text"
      },
      "source": [
        "<a href=\"https://colab.research.google.com/github/aaronmat1905/MLdiaries/blob/main/Artificial%20Neural%20Networks%20/%20ArtificialNeuralNetworks.ipynb\" target=\"_parent\"><img src=\"https://colab.research.google.com/assets/colab-badge.svg\" alt=\"Open In Colab\"/></a>"
      ]
    },
    {
      "cell_type": "code",
      "execution_count": 1,
      "metadata": {
        "id": "0RhI9kUQZcIs"
      },
      "outputs": [],
      "source": [
        "# Imports\n",
        "import numpy as np\n",
        "import pandas as pd\n",
        "import matplotlib.pyplot as plt\n",
        "from sklearn.model_selection import train_test_split\n",
        "from sklearn.preprocessing import StandardScaler"
      ]
    },
    {
      "cell_type": "markdown",
      "source": [
        "**Assume that:**\n",
        "- **Polynomial Type**:\n",
        "$$\n",
        "y = 0.96x^2 + 7.35x + 7.07\n",
        "$$\n",
        "- **Noise Level**:\n",
        "$$\n",
        "ϵ \\sim N(0, 2.42)\n",
        "$$\n",
        "- **Architecture**: \\\n",
        "Input(1) → Hidden(32) → Hidden(72) → Output(1)\n",
        "- **Learning Rate (α)** = 0.005\n",
        "- **Architecture**: Narrow-To-Wide Architecture"
      ],
      "metadata": {
        "id": "jPQ0CZGeaNz6"
      }
    },
    {
      "cell_type": "code",
      "source": [
        "# Loading in our dataset: <Synthetically Generated>\n"
      ],
      "metadata": {
        "id": "hdpedx_xcGYM"
      },
      "execution_count": null,
      "outputs": []
    }
  ]
}